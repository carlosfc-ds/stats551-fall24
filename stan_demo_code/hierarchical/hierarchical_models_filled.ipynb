{
  "cells": [
    {
      "cell_type": "code",
      "source": [
        "# activate R magic\n",
        "%load_ext rpy2.ipython"
      ],
      "metadata": {
        "id": "YSwkUxwjAVoK"
      },
      "id": "YSwkUxwjAVoK",
      "execution_count": 1,
      "outputs": []
    },
    {
      "cell_type": "code",
      "execution_count": 3,
      "id": "ef30d969",
      "metadata": {
        "name": "setup",
        "tags": [
          "remove_cell"
        ],
        "id": "ef30d969"
      },
      "outputs": [],
      "source": [
        "%%R\n",
        "knitr::opts_chunk$set(echo = TRUE, comment = \"#>\", collapse = TRUE,\n",
        "                      fig.width = 6, fig.asp = 0.618,\n",
        "                      out.width = \"70%\", fig.align = \"center\")\n",
        "comma <- function(x, digits. = 2L) {\n",
        "    format(x, digits = digits., big.mark = \",\")\n",
        "}"
      ]
    },
    {
      "cell_type": "code",
      "source": [
        "from google.colab import drive\n",
        "drive.mount('/content/drive')\n",
        "%cp drive/MyDrive/Rlibrary.tar.gz .\n",
        "!tar xf Rlibrary.tar.gz"
      ],
      "metadata": {
        "colab": {
          "base_uri": "https://localhost:8080/"
        },
        "id": "JIRIdBqBAdfQ",
        "outputId": "12ce706d-7aef-4266-d25c-a700d3ea6592"
      },
      "id": "JIRIdBqBAdfQ",
      "execution_count": 4,
      "outputs": [
        {
          "output_type": "stream",
          "name": "stdout",
          "text": [
            "Mounted at /content/drive\n",
            "tar: Removing leading `/' from member names\n"
          ]
        }
      ]
    },
    {
      "cell_type": "code",
      "execution_count": 18,
      "id": "fc1a6d45",
      "metadata": {
        "message": false,
        "name": "load-pkg",
        "colab": {
          "base_uri": "https://localhost:8080/"
        },
        "id": "fc1a6d45",
        "outputId": "2cc94462-ef9e-4d72-fcbc-4861e0c4293d"
      },
      "outputs": [
        {
          "output_type": "stream",
          "name": "stderr",
          "text": [
            "WARNING:rpy2.rinterface_lib.callbacks:R[write to console]: This is posterior version 1.4.1\n",
            "\n",
            "WARNING:rpy2.rinterface_lib.callbacks:R[write to console]: \n",
            "Attaching package: ‘posterior’\n",
            "\n",
            "\n",
            "WARNING:rpy2.rinterface_lib.callbacks:R[write to console]: The following objects are masked from ‘package:rstan’:\n",
            "\n",
            "    ess_bulk, ess_tail\n",
            "\n",
            "\n",
            "WARNING:rpy2.rinterface_lib.callbacks:R[write to console]: The following objects are masked from ‘package:stats’:\n",
            "\n",
            "    mad, sd, var\n",
            "\n",
            "\n",
            "WARNING:rpy2.rinterface_lib.callbacks:R[write to console]: The following objects are masked from ‘package:base’:\n",
            "\n",
            "    %in%, match\n",
            "\n",
            "\n",
            "WARNING:rpy2.rinterface_lib.callbacks:R[write to console]: This is bayesplot version 1.10.0\n",
            "\n",
            "WARNING:rpy2.rinterface_lib.callbacks:R[write to console]: - Online documentation and vignettes at mc-stan.org/bayesplot\n",
            "\n",
            "WARNING:rpy2.rinterface_lib.callbacks:R[write to console]: - bayesplot theme set to bayesplot::theme_default()\n",
            "\n",
            "WARNING:rpy2.rinterface_lib.callbacks:R[write to console]:    * Does _not_ affect other ggplot2 plots\n",
            "\n",
            "WARNING:rpy2.rinterface_lib.callbacks:R[write to console]:    * See ?bayesplot_theme_set for details on theme setting\n",
            "\n",
            "WARNING:rpy2.rinterface_lib.callbacks:R[write to console]: \n",
            "Attaching package: ‘bayesplot’\n",
            "\n",
            "\n",
            "WARNING:rpy2.rinterface_lib.callbacks:R[write to console]: The following object is masked from ‘package:posterior’:\n",
            "\n",
            "    rhat\n",
            "\n",
            "\n"
          ]
        }
      ],
      "source": [
        "%%R\n",
        ".libPaths('usr/local/lib/R/site-library/')\n",
        "library(tidyverse)\n",
        "library(rstan)\n",
        "rstan_options(auto_write = TRUE)  # save compiled STAN object\n",
        "# library(shinystan)  # graphical exploration\n",
        "library(posterior)  # for summarizing draws\n",
        "library(bayesplot)  # for plotting\n",
        "theme_set(theme_classic() +\n",
        "    theme(panel.grid.major.y = element_line(color = \"grey92\")))"
      ]
    },
    {
      "cell_type": "markdown",
      "id": "b7ed22d2",
      "metadata": {
        "id": "b7ed22d2"
      },
      "source": [
        "Although many statistical models can be fitted using Bayesian or frequentist methods, some models are more naturally used in the Bayesian framework. One class of such models is the family of **hierarchical models.** Consider situations when the data contain some *clusters*, such as multiple data points in each of many participants, multiple participants in each of several treatment conditions, etc. While it is possible to run $J$ Bayesian analyses for the $J$ subsets of the data, it is usually more efficient to *pool* the data together, such that cluster $j$ has some parameters $\\theta_j$, and these $J$ $\\theta$ values themselves come from a common distribution. This is the same idea as *multilevel modeling*.\n",
        "\n",
        "In this note, you will see two examples, one from the textbook with a hierarchical Bernoulli/binomial model, and another from a classic data set with eight schools, modelled by a hierarchical normal model.\n",
        "\n",
        "# Hierarchical Bernoulli/Binomial\n",
        "\n",
        "Previously, we have seen the Bernoulli model for $N$ outcomes, such as multiple coin flips from the same coin:\n",
        "$$y_i \\sim \\text{Bern}(\\theta_i), \\text{for }i = 1, \\ldots, N$$\n",
        "We assumed exchangeability as the flips are from the same coin.\n",
        "\n",
        "## Alternative Parameterization of Beta\n",
        "\n",
        "Previously we have used the Beta(a, b) prior for a Bernoulli outcome, such that\n",
        "$$P(\\theta \\mid a, b) \\propto \\theta^{a - 1} (1 - \\theta)^{b - 1}.$$\n",
        "However, in hierarchical models to be discussed later, it is beneficial to consider another way to express the Beta distribution, in terms of the *prior mean*, $\\mu = a / (a + b)$, $\\mu \\in [0, 1]$, and the concentration, $\\kappa = a + b$, $\\kappa \\in [0, \\infty)$. So instead of the above formula, we can write\n",
        "$$P(\\theta \\mid \\mu, \\kappa) \\propto \\theta^{\\mu \\kappa - 1} (1 - \\theta)^{(1 - \\mu) \\kappa - 1}.$$\n",
        "The two expressions represent exactly the same distribution, but just in terms of parameters of different meanings. Therefore, they are referred to as **different parameterization** of the Beta distribution.\n",
        "\n",
        "<aside>\n",
        "Note your textbook used $\\omega$ = $(a - 1) / (a + b - 2)$ for the mode, instead of the mean. This is yet another parameterization in terms of $\\omega$ and $\\kappa$, but I found the mean parameterization more natural and common in the literature.\n",
        "</aside>\n",
        "\n",
        "## Multiple Bernoulli = Binomial\n",
        "\n",
        "With $N$ exchangeable Bernoulli observations, an equivalent but more efficient way to code the model is to use the *binomial* distribution. Let $z = \\sum_{i = 1}^N y_i$, then\n",
        "$$z \\sim \\mathrm{Bin}(N, \\theta)$$\n",
        "\n",
        "## Multiple Binomial Observations\n",
        "\n",
        "Now, consider the situation with multiple coins, perhaps each coin with some noticeable differences, as discussed in chapter 9.2 of the textbook. If we have $J$ = 3 coins, and $N_j$ flips for the $j$th coin. If we believe that the coins all have the same bias, then we could consider the model\n",
        "$$z_j \\sim \\mathrm{Bin}(N_j, \\theta),$$\n",
        "which still contains only one parameter, $\\theta$. However, if we have reason to believe that the coins have different biases, then we should have\n",
        "$$z_j \\sim \\mathrm{Bin}(N_j, \\theta_{\\color{red}{j}}),$$\n",
        "with parameters $\\theta_1, \\ldots, \\theta_j$.\n",
        "\n",
        "We can assign priors to each individual $\\theta_j$. However, if our prior belief is such that there's something common among the different coins, say they're from the same factory, so that they come from the same distribution, we can have common parameters for the prior distributions of the $\\theta$s:\n",
        "$$\\theta_j \\sim \\mathrm{Beta2}(\\mu, \\kappa),$$\n",
        "note I use Beta2 to denote the mean parameterization. Here, we express the prior belief that the **mean bias** of the different coins is $\\mu$, and how each coin is different from the mean depends on $\\kappa$. Now, $\\mu$ and $\\kappa$ are hyperparameters. We can assign some fixed values to $\\mu$ and $\\kappa$, as if we know what the average bias is. However, the power of the hierarchical model is that we can put priors (or hyper priors) on $\\mu$ and $\\kappa$, and obtain posterior distributions of them, based on what the data say.\n",
        "\n",
        "What priors to use for $\\mu$ and $\\kappa$? $\\mu$ is relatively easy because it is the mean bias; if we put a Beta prior for bias, we can again use a Beta prior for the mean bias. $\\kappa$ is more challenging. A larger $\\kappa$ means that the biases of the coins are more similar to each other. We can perform a prior predictive check to see what the data look like. As a starting point, chapter 9 of the textbook suggested using Gamma(0.01, 0.01). So the full model in our case, with a weak Beta(1.5, 1.5) prior on $\\mu$, is\n",
        "\n",
        "Model:\n",
        "$$\n",
        "  \\begin{aligned}\n",
        "    z_j & \\sim \\mathrm{Bin}(N_j, \\theta_j) \\\\\n",
        "    \\theta_j & \\sim \\mathrm{Beta2}(\\mu, \\kappa)\n",
        "  \\end{aligned}\n",
        "$$\n",
        "Prior:\n",
        "$$\n",
        "  \\begin{aligned}\n",
        "    \\mu & \\sim \\mathrm{Beta}(1.5, 1.5) \\\\\n",
        "    \\kappa & \\sim \\mathrm{Gamma}(0.01, 0.01)\n",
        "  \\end{aligned}\n",
        "$$\n",
        "\n",
        "## Therapeutic Touch Example\n",
        "\n",
        "See the description of the research problem from chapter 9.2.4 of the textbook."
      ]
    },
    {
      "cell_type": "code",
      "execution_count": 10,
      "id": "42624d0a",
      "metadata": {
        "name": "tt_dat",
        "id": "42624d0a"
      },
      "outputs": [],
      "source": [
        "%%R\n",
        "# Data file from https://github.com/boboppie/kruschke-doing_bayesian_data_analysis/blob/master/2e/TherapeuticTouchData.csv\n",
        "# tt_dat <- read.csv(\"data_files/TherapeuticTouchData.csv\")\n",
        "tt_dat <- read.csv(\"https://raw.githubusercontent.com/boboppie/kruschke-doing_bayesian_data_analysis/master/2e/TherapeuticTouchData.csv\")\n",
        "# Get aggregated data by summing the counts\n",
        "tt_agg <- tt_dat %>%\n",
        "    group_by(s) %>%\n",
        "    summarise(y = sum(y),  # total number of correct\n",
        "              n = n())\n",
        "# Plot proportion correct distribution\n",
        "p1 <- ggplot(tt_agg, aes(x = y / n)) +\n",
        "    geom_histogram(binwidth = .1) +\n",
        "    labs(x = \"Proportion Correct\")"
      ]
    },
    {
      "cell_type": "code",
      "execution_count": 11,
      "id": "11908f22",
      "metadata": {
        "name": "p1",
        "tags": [
          "remove_input"
        ],
        "colab": {
          "base_uri": "https://localhost:8080/"
        },
        "id": "11908f22",
        "outputId": "e9ad98bf-62ba-4473-c5a9-7335049e4838"
      },
      "outputs": [
        {
          "output_type": "stream",
          "name": "stderr",
          "text": [
            "UsageError: Cell magic `%%` not found.\n"
          ]
        }
      ],
      "source": [
        "%%\n",
        "p1"
      ]
    },
    {
      "cell_type": "markdown",
      "id": "f81897b4",
      "metadata": {
        "id": "f81897b4"
      },
      "source": [
        "### Prior predictive\n",
        "\n",
        "You can use Stan to sample the prior by commenting out the model line; here I show how to do it in R:"
      ]
    },
    {
      "cell_type": "code",
      "execution_count": 12,
      "id": "67317d97",
      "metadata": {
        "fig.width": 8.57,
        "layout": "l-body-outset",
        "name": "ppc",
        "out.width": "100%",
        "colab": {
          "base_uri": "https://localhost:8080/",
          "height": 497
        },
        "id": "67317d97",
        "outputId": "00289c1a-e19e-4ba3-cd0e-6cacf25c4817"
      },
      "outputs": [
        {
          "output_type": "display_data",
          "data": {
            "image/png": "[encoded data removed]"
          },
          "metadata": {}
        }
      ],
      "source": [
        "%%R\n",
        "set.seed(1706)\n",
        "plist <- vector(\"list\", 12L)\n",
        "plist[[1]] <- p1 +\n",
        "    labs(x = \"Observed data\") +\n",
        "    theme(axis.title.x = element_text(color = \"red\"))\n",
        "num_subjects <- 28\n",
        "for (s in 1:11) {\n",
        "    # Get prior values of mu and kappa\n",
        "    mu_s <- rbeta(1, shape1 = 1.5, shape2 = 1.5)\n",
        "    kappa_s <- rgamma(1, shape = 0.01, rate = 0.01)\n",
        "    # Generate theta\n",
        "    theta <- rbeta(num_subjects,\n",
        "                   shape1 = mu_s * kappa_s, shape2 = (1 - mu_s) * kappa_s)\n",
        "    # Generate data\n",
        "    new_y <- rbinom(num_subjects, size = tt_agg$n, prob = theta)\n",
        "    plist[[s + 1]] <-\n",
        "        p1 %+% mutate(tt_agg, y = new_y) +\n",
        "        labs(x = paste(\"Simulated data\", s)) +\n",
        "        theme(axis.title.x = element_text(color = \"black\"))\n",
        "}\n",
        "gridExtra::grid.arrange(grobs = plist, nrow = 3)"
      ]
    },
    {
      "cell_type": "markdown",
      "id": "cd98eab3",
      "metadata": {
        "id": "cd98eab3"
      },
      "source": [
        "The prior on $\\kappa$ is actually not very realistic because it tends to push the bias to either 0 or 1. Using something like Gamma(0.1, 0.1) or Gamma(2, 0.01) may be a bit more reasonable (you can try it out yourself).\n",
        "\n",
        "### Calling `rstan`"
      ]
    },
    {
      "cell_type": "code",
      "execution_count": 13,
      "id": "a2f50370",
      "metadata": {
        "name": "tt_fit",
        "tags": [
          "remove_output"
        ],
        "colab": {
          "base_uri": "https://localhost:8080/"
        },
        "id": "a2f50370",
        "outputId": "796418b3-04c7-4fe7-bed1-ddc34dcb3291"
      },
      "outputs": [
        {
          "output_type": "stream",
          "name": "stdout",
          "text": [
            "\n",
            "SAMPLING FOR MODEL 'anon_model' NOW (CHAIN 1).\n",
            "Chain 1: \n",
            "Chain 1: Gradient evaluation took 4.5e-05 seconds\n",
            "Chain 1: 1000 transitions using 10 leapfrog steps per transition would take 0.45 seconds.\n",
            "Chain 1: Adjust your expectations accordingly!\n",
            "Chain 1: \n",
            "Chain 1: \n",
            "Chain 1: Iteration:    1 / 4000 [  0%]  (Warmup)\n",
            "Chain 1: Iteration:  400 / 4000 [ 10%]  (Warmup)\n",
            "Chain 1: Iteration:  800 / 4000 [ 20%]  (Warmup)\n",
            "Chain 1: Iteration: 1200 / 4000 [ 30%]  (Warmup)\n",
            "Chain 1: Iteration: 1600 / 4000 [ 40%]  (Warmup)\n",
            "Chain 1: Iteration: 2000 / 4000 [ 50%]  (Warmup)\n",
            "Chain 1: Iteration: 2001 / 4000 [ 50%]  (Sampling)\n",
            "Chain 1: Iteration: 2400 / 4000 [ 60%]  (Sampling)\n",
            "Chain 1: Iteration: 2800 / 4000 [ 70%]  (Sampling)\n",
            "Chain 1: Iteration: 3200 / 4000 [ 80%]  (Sampling)\n",
            "Chain 1: Iteration: 3600 / 4000 [ 90%]  (Sampling)\n",
            "Chain 1: Iteration: 4000 / 4000 [100%]  (Sampling)\n",
            "Chain 1: \n",
            "Chain 1:  Elapsed Time: 0.814 seconds (Warm-up)\n",
            "Chain 1:                0.556 seconds (Sampling)\n",
            "Chain 1:                1.37 seconds (Total)\n",
            "Chain 1: \n",
            "\n",
            "SAMPLING FOR MODEL 'anon_model' NOW (CHAIN 2).\n",
            "Chain 2: \n",
            "Chain 2: Gradient evaluation took 3.8e-05 seconds\n",
            "Chain 2: 1000 transitions using 10 leapfrog steps per transition would take 0.38 seconds.\n",
            "Chain 2: Adjust your expectations accordingly!\n",
            "Chain 2: \n",
            "Chain 2: \n",
            "Chain 2: Iteration:    1 / 4000 [  0%]  (Warmup)\n",
            "Chain 2: Iteration:  400 / 4000 [ 10%]  (Warmup)\n",
            "Chain 2: Iteration:  800 / 4000 [ 20%]  (Warmup)\n",
            "Chain 2: Iteration: 1200 / 4000 [ 30%]  (Warmup)\n",
            "Chain 2: Iteration: 1600 / 4000 [ 40%]  (Warmup)\n",
            "Chain 2: Iteration: 2000 / 4000 [ 50%]  (Warmup)\n",
            "Chain 2: Iteration: 2001 / 4000 [ 50%]  (Sampling)\n",
            "Chain 2: Iteration: 2400 / 4000 [ 60%]  (Sampling)\n",
            "Chain 2: Iteration: 2800 / 4000 [ 70%]  (Sampling)\n",
            "Chain 2: Iteration: 3200 / 4000 [ 80%]  (Sampling)\n",
            "Chain 2: Iteration: 3600 / 4000 [ 90%]  (Sampling)\n",
            "Chain 2: Iteration: 4000 / 4000 [100%]  (Sampling)\n",
            "Chain 2: \n",
            "Chain 2:  Elapsed Time: 0.693 seconds (Warm-up)\n",
            "Chain 2:                0.71 seconds (Sampling)\n",
            "Chain 2:                1.403 seconds (Total)\n",
            "Chain 2: \n",
            "\n",
            "SAMPLING FOR MODEL 'anon_model' NOW (CHAIN 3).\n",
            "Chain 3: \n",
            "Chain 3: Gradient evaluation took 5.1e-05 seconds\n",
            "Chain 3: 1000 transitions using 10 leapfrog steps per transition would take 0.51 seconds.\n",
            "Chain 3: Adjust your expectations accordingly!\n",
            "Chain 3: \n",
            "Chain 3: \n",
            "Chain 3: Iteration:    1 / 4000 [  0%]  (Warmup)\n",
            "Chain 3: Iteration:  400 / 4000 [ 10%]  (Warmup)\n",
            "Chain 3: Iteration:  800 / 4000 [ 20%]  (Warmup)\n",
            "Chain 3: Iteration: 1200 / 4000 [ 30%]  (Warmup)\n",
            "Chain 3: Iteration: 1600 / 4000 [ 40%]  (Warmup)\n",
            "Chain 3: Iteration: 2000 / 4000 [ 50%]  (Warmup)\n",
            "Chain 3: Iteration: 2001 / 4000 [ 50%]  (Sampling)\n",
            "Chain 3: Iteration: 2400 / 4000 [ 60%]  (Sampling)\n",
            "Chain 3: Iteration: 2800 / 4000 [ 70%]  (Sampling)\n",
            "Chain 3: Iteration: 3200 / 4000 [ 80%]  (Sampling)\n",
            "Chain 3: Iteration: 3600 / 4000 [ 90%]  (Sampling)\n",
            "Chain 3: Iteration: 4000 / 4000 [100%]  (Sampling)\n",
            "Chain 3: \n",
            "Chain 3:  Elapsed Time: 0.728 seconds (Warm-up)\n",
            "Chain 3:                0.596 seconds (Sampling)\n",
            "Chain 3:                1.324 seconds (Total)\n",
            "Chain 3: \n",
            "\n",
            "SAMPLING FOR MODEL 'anon_model' NOW (CHAIN 4).\n",
            "Chain 4: \n",
            "Chain 4: Gradient evaluation took 3.7e-05 seconds\n",
            "Chain 4: 1000 transitions using 10 leapfrog steps per transition would take 0.37 seconds.\n",
            "Chain 4: Adjust your expectations accordingly!\n",
            "Chain 4: \n",
            "Chain 4: \n",
            "Chain 4: Iteration:    1 / 4000 [  0%]  (Warmup)\n",
            "Chain 4: Iteration:  400 / 4000 [ 10%]  (Warmup)\n",
            "Chain 4: Iteration:  800 / 4000 [ 20%]  (Warmup)\n",
            "Chain 4: Iteration: 1200 / 4000 [ 30%]  (Warmup)\n",
            "Chain 4: Iteration: 1600 / 4000 [ 40%]  (Warmup)\n",
            "Chain 4: Iteration: 2000 / 4000 [ 50%]  (Warmup)\n",
            "Chain 4: Iteration: 2001 / 4000 [ 50%]  (Sampling)\n",
            "Chain 4: Iteration: 2400 / 4000 [ 60%]  (Sampling)\n",
            "Chain 4: Iteration: 2800 / 4000 [ 70%]  (Sampling)\n",
            "Chain 4: Iteration: 3200 / 4000 [ 80%]  (Sampling)\n",
            "Chain 4: Iteration: 3600 / 4000 [ 90%]  (Sampling)\n",
            "Chain 4: Iteration: 4000 / 4000 [100%]  (Sampling)\n",
            "Chain 4: \n",
            "Chain 4:  Elapsed Time: 0.722 seconds (Warm-up)\n",
            "Chain 4:                0.668 seconds (Sampling)\n",
            "Chain 4:                1.39 seconds (Total)\n",
            "Chain 4: \n"
          ]
        }
      ],
      "source": [
        "%%R\n",
        "tt_fit <- stan(\n",
        "    file = \"hierarchical_bin.stan\",\n",
        "    data = list(J = nrow(tt_agg),\n",
        "                y = tt_agg$y,\n",
        "                N = tt_agg$n),\n",
        "    seed = 1716,  # for reproducibility\n",
        "    chains = 4,\n",
        "    iter = 4000,  # default gives warning saying iter needs to be higher\n",
        "    # may need higher adapt_delta (default = .8) for hierarchical models\n",
        "    control = list(adapt_delta = 0.8)\n",
        ")"
      ]
    },
    {
      "cell_type": "markdown",
      "id": "d45adf9e",
      "metadata": {
        "id": "d45adf9e"
      },
      "source": [
        "You can explore the convergence and posterior distributions using the `shinystan` package"
      ]
    },
    {
      "cell_type": "code",
      "execution_count": 14,
      "id": "6b256a1b",
      "metadata": {
        "eval": false,
        "name": "shinystan",
        "colab": {
          "base_uri": "https://localhost:8080/"
        },
        "id": "6b256a1b",
        "outputId": "a9678043-5597-47cb-811e-9d0cc618db37"
      },
      "outputs": [
        {
          "output_type": "stream",
          "name": "stderr",
          "text": [
            "WARNING:rpy2.rinterface_lib.callbacks:R[write to console]: Error in launch_shinystan(tt_fit) : \n",
            "  could not find function \"launch_shinystan\"\n",
            "\n",
            "WARNING:rpy2.rinterface_lib.callbacks:R[write to console]: In addition: \n",
            "WARNING:rpy2.rinterface_lib.callbacks:R[write to console]: Warning message:\n",
            "\n",
            "WARNING:rpy2.rinterface_lib.callbacks:R[write to console]: In readLines(file, warn = TRUE) :\n",
            "WARNING:rpy2.rinterface_lib.callbacks:R[write to console]: \n",
            " \n",
            "WARNING:rpy2.rinterface_lib.callbacks:R[write to console]:  incomplete final line found on '/content/hierarchical_bin.stan'\n",
            "\n"
          ]
        },
        {
          "output_type": "stream",
          "name": "stdout",
          "text": [
            "\n",
            "Error in launch_shinystan(tt_fit) : \n",
            "  could not find function \"launch_shinystan\"\n"
          ]
        }
      ],
      "source": [
        "%%R\n",
        "launch_shinystan(tt_fit)"
      ]
    },
    {
      "cell_type": "markdown",
      "id": "f49c5168",
      "metadata": {
        "id": "f49c5168"
      },
      "source": [
        "### Table of coefficients"
      ]
    },
    {
      "cell_type": "code",
      "execution_count": 19,
      "id": "ca8423b6",
      "metadata": {
        "name": "tab-fit",
        "colab": {
          "base_uri": "https://localhost:8080/"
        },
        "id": "ca8423b6",
        "outputId": "f15dad0e-f134-4171-fe9e-020d3765d823"
      },
      "outputs": [
        {
          "output_type": "stream",
          "name": "stdout",
          "text": [
            "\n",
            "\n",
            "|variable  |    mean|  median|    sd|   mad|      q5|     q95| rhat| ess_bulk| ess_tail|\n",
            "|:---------|-------:|-------:|-----:|-----:|-------:|-------:|----:|--------:|--------:|\n",
            "|theta[1]  |    0.37|    0.37|  0.08|  0.08|    0.22|    0.49| 1.00|  2391.10|  3595.39|\n",
            "|theta[2]  |    0.39|    0.39|  0.08|  0.08|    0.24|    0.51| 1.00|  3261.16|  3793.78|\n",
            "|theta[3]  |    0.41|    0.41|  0.08|  0.07|    0.27|    0.53| 1.00|  4974.26|  3689.93|\n",
            "|theta[4]  |    0.41|    0.41|  0.08|  0.07|    0.27|    0.53| 1.00|  5123.21|  4846.51|\n",
            "|theta[5]  |    0.41|    0.41|  0.08|  0.07|    0.27|    0.53| 1.00|  4729.48|  3929.00|\n",
            "|theta[6]  |    0.41|    0.41|  0.08|  0.07|    0.28|    0.53| 1.00|  4590.63|  4684.32|\n",
            "|theta[7]  |    0.41|    0.41|  0.08|  0.07|    0.27|    0.54| 1.00|  4834.44|  4216.26|\n",
            "|theta[8]  |    0.41|    0.41|  0.08|  0.07|    0.28|    0.53| 1.00|  4506.89|  4343.56|\n",
            "|theta[9]  |    0.41|    0.41|  0.08|  0.07|    0.27|    0.53| 1.00|  4597.78|  3994.53|\n",
            "|theta[10] |    0.41|    0.41|  0.08|  0.07|    0.28|    0.53| 1.00|  4202.86|  3718.41|\n",
            "|theta[11] |    0.43|    0.43|  0.08|  0.07|    0.31|    0.56| 1.00|  6310.36|  4366.32|\n",
            "|theta[12] |    0.43|    0.43|  0.08|  0.07|    0.30|    0.56| 1.00|  5256.06|  4500.63|\n",
            "|theta[13] |    0.43|    0.43|  0.08|  0.07|    0.30|    0.56| 1.00|  6468.18|  4022.29|\n",
            "|theta[14] |    0.43|    0.43|  0.08|  0.07|    0.30|    0.55| 1.00|  6435.05|  4151.62|\n",
            "|theta[15] |    0.43|    0.43|  0.08|  0.07|    0.31|    0.55| 1.00|  6094.94|  4749.72|\n",
            "|theta[16] |    0.45|    0.45|  0.08|  0.07|    0.33|    0.59| 1.00|  6334.04|  4989.60|\n",
            "|theta[17] |    0.45|    0.45|  0.08|  0.07|    0.33|    0.58| 1.00|  5939.39|  4318.57|\n",
            "|theta[18] |    0.45|    0.45|  0.08|  0.07|    0.33|    0.59| 1.00|  6784.53|  5118.85|\n",
            "|theta[19] |    0.45|    0.45|  0.08|  0.07|    0.33|    0.58| 1.00|  6476.33|  5324.11|\n",
            "|theta[20] |    0.45|    0.45|  0.08|  0.07|    0.33|    0.59| 1.00|  5899.87|  5073.43|\n",
            "|theta[21] |    0.45|    0.45|  0.08|  0.07|    0.33|    0.58| 1.00|  7213.87|  5357.28|\n",
            "|theta[22] |    0.45|    0.45|  0.08|  0.08|    0.33|    0.58| 1.00|  6187.96|  3899.72|\n",
            "|theta[23] |    0.47|    0.47|  0.08|  0.07|    0.35|    0.61| 1.00|  5316.15|  4141.00|\n",
            "|theta[24] |    0.47|    0.47|  0.08|  0.08|    0.35|    0.61| 1.00|  5633.77|  4196.42|\n",
            "|theta[25] |    0.50|    0.49|  0.08|  0.08|    0.37|    0.65| 1.00|  3611.73|  4523.21|\n",
            "|theta[26] |    0.50|    0.49|  0.08|  0.08|    0.37|    0.65| 1.00|  3879.95|  4127.62|\n",
            "|theta[27] |    0.50|    0.49|  0.09|  0.08|    0.37|    0.65| 1.00|  3852.68|  4050.89|\n",
            "|theta[28] |    0.52|    0.51|  0.09|  0.09|    0.39|    0.68| 1.00|  2800.84|  4595.49|\n",
            "|mu        |    0.44|    0.44|  0.03|  0.03|    0.39|    0.50| 1.00|  2037.37|  3273.80|\n",
            "|kappa     |   57.93|   40.32| 53.62| 29.46|   12.09|  166.58| 1.01|   698.94|  1350.06|\n",
            "|lp__      | -199.33| -199.78|  9.83|  9.98| -214.88| -182.11| 1.01|   643.31|  1107.65|\n"
          ]
        }
      ],
      "source": [
        "%%R\n",
        "tt_fit %>%\n",
        "    # Convert to `draws` object to work with the `posterior` package\n",
        "    as_draws() %>%\n",
        "    # Get summary\n",
        "    summarize_draws() %>%\n",
        "    # Use `knitr::kable()` for tabulation\n",
        "    knitr::kable(digits = 2)"
      ]
    },
    {
      "cell_type": "markdown",
      "id": "00283739",
      "metadata": {
        "id": "00283739"
      },
      "source": [
        "### Derived coefficients\n",
        "\n",
        "One nice thing about MCMC is that it is straightforward to obtain posterior distributions that are functions of the parameters. For example, even though we only sampled from the posteriors of the $\\theta$s, we can ask questions like whether there is evidence for a nonzero *difference* in $\\theta$ between person 1 and person 28."
      ]
    },
    {
      "cell_type": "code",
      "execution_count": 20,
      "id": "c69b8206",
      "metadata": {
        "name": "derived-draws",
        "colab": {
          "base_uri": "https://localhost:8080/"
        },
        "id": "c69b8206",
        "outputId": "14b8954a-4d29-4a10-8df3-174feb07f3f3"
      },
      "outputs": [
        {
          "output_type": "stream",
          "name": "stdout",
          "text": [
            "# A tibble: 3 × 10\n",
            "  variable       mean  median    sd    mad     q5    q95  rhat ess_bulk ess_tail\n",
            "  <chr>         <num>   <num> <num>  <num>  <num>  <num> <num>    <num>    <num>\n",
            "1 theta1_min… -0.0651 -0.0569 0.106 0.0965 -0.252 0.0900  1.00    5408.    4387.\n",
            "2 theta1_min… -0.153  -0.135  0.129 0.123  -0.394 0.0258  1.00    1816.    3839.\n",
            "3 theta14_mi… -0.0880 -0.0739 0.113 0.105  -0.295 0.0718  1.00    4036.    3856.\n"
          ]
        }
      ],
      "source": [
        "%%R\n",
        "as_draws_df(tt_fit) %>%\n",
        "    mutate_variables(\n",
        "        theta1_minus14 = `theta[1]` - `theta[14]`,\n",
        "        theta1_minus28 = `theta[1]` - `theta[28]`,\n",
        "        theta14_minus28 = `theta[14]` - `theta[28]`\n",
        "    ) %>%\n",
        "    subset(variable = c(\"theta1_minus14\", \"theta1_minus28\",\n",
        "                        \"theta14_minus28\")) %>%\n",
        "    summarise_draws()"
      ]
    },
    {
      "cell_type": "markdown",
      "id": "f9cb89db",
      "metadata": {
        "id": "f9cb89db"
      },
      "source": [
        "### Conclusion\n",
        "\n",
        "As 0.5 is included in the 95% CI of $\\theta$ for all participants, there is insufficient evidence that people can sense \"therapeutic touch.\"\n",
        "\n",
        "## Shrinkage"
      ]
    },
    {
      "cell_type": "code",
      "execution_count": 21,
      "id": "8baa081a",
      "metadata": {
        "fig.asp": 1,
        "name": "shrinkage",
        "colab": {
          "base_uri": "https://localhost:8080/",
          "height": 531
        },
        "id": "8baa081a",
        "outputId": "e63e0411-9526-419b-fded-a3b6670d43de"
      },
      "outputs": [
        {
          "output_type": "stream",
          "name": "stdout",
          "text": [
            "Scale for x is already present.\n",
            "Adding another scale for x, which will replace the existing scale.\n"
          ]
        },
        {
          "output_type": "display_data",
          "data": {
            "image/png": "[encoded data removed]"
          },
          "metadata": {}
        }
      ],
      "source": [
        "%%R\n",
        "mcmc_intervals(tt_fit,\n",
        "               # plot only parameters matching \"theta\"\n",
        "               regex_pars = \"theta\") +\n",
        "    geom_point(\n",
        "        data = tibble(\n",
        "            parameter = paste0(\"theta[\", 1:28, \"]\"),\n",
        "            x = tt_agg$y / tt_agg$n\n",
        "        ),\n",
        "        aes(x = x, y = parameter),\n",
        "        col = \"red\"\n",
        "    ) +\n",
        "    xlim(0, 1)"
      ]
    },
    {
      "cell_type": "markdown",
      "id": "e0dcd5dc",
      "metadata": {
        "id": "e0dcd5dc"
      },
      "source": [
        "As can be seen, the posterior distributions are closer to the center than the data (in red). This **pooling** is a result of the belief that the participants have something in common.\n",
        "\n",
        "### Multiple Comparisons?\n",
        "\n",
        "Another benefit of a Bayesian hierarchical model is that *you don't need to worry about multiple comparisons*. There are multiple angles on why this is the case, but the basic answer is that the use of common prior distributions builds in the prior belief that the clusters/groups are likely to be equal. See discussion [here](https://statmodeling.stat.columbia.edu/2016/08/22/bayesian-inference-completely-solves-the-multiple-comparisons-problem/) and [here](https://stats.stackexchange.com/questions/203378/why-dont-bayesian-methods-require-multiple-testing-corrections).\n",
        "\n",
        "# Hierarchical Normal Model\n",
        "\n",
        "## Eight Schools Example\n",
        "\n",
        "This is a classic data set first analyzed by [Rubin (1981)](https://journals.sagepub.com/doi/abs/10.3102/10769986006004377). It is also the example used in the [RStan Getting Started](https://github.com/stan-dev/rstan/wiki/RStan-Getting-Started) page. The data contains the effect of coaching from randomized experiments in eight schools. The numbers shown (labelled as `y`) are the mean difference (i.e., effect size) in performance between the treatment group and the control group on SAT-V scores."
      ]
    },
    {
      "cell_type": "code",
      "execution_count": 22,
      "id": "8052da94",
      "metadata": {
        "name": "schools_dat",
        "id": "8052da94"
      },
      "outputs": [],
      "source": [
        "%%R\n",
        "schools_dat <- list(J = 8,\n",
        "                    y = c(28, 8, -3,  7, -1, 1, 18, 12),\n",
        "                    sigma = c(15, 10, 16, 11, 9, 11, 10, 18))"
      ]
    },
    {
      "cell_type": "markdown",
      "id": "db7d8ca5",
      "metadata": {
        "id": "db7d8ca5"
      },
      "source": [
        "In the above data, some numbers are positive, and some are negative. Because the sample sizes are different, the data also contained the standard errors (labelled as `sigma`) of the effect sizes. Generally speaking, a larger sample size corresponds to a smaller standard error. The research question is\n",
        "\n",
        "> 1. What is the average treatment effect of coaching?\n",
        "> 2. Are the treatment effects similar across schools?\n",
        "\n",
        "## Model\n",
        "\n",
        "Model:\n",
        "$$\n",
        "  \\begin{aligned}\n",
        "    d_j & \\sim N(\\theta_j, s_j) \\\\\n",
        "    \\theta_j & \\sim N(\\mu, \\tau)\n",
        "  \\end{aligned}\n",
        "$$\n",
        "Prior:\n",
        "$$\n",
        "  \\begin{aligned}\n",
        "    \\mu & \\sim N(0, 100) \\\\\n",
        "    \\tau & \\sim t^+_4(0, 100)\n",
        "  \\end{aligned}\n",
        "$$\n",
        "\n",
        "Given the SAT score range, it is unlikely that a coaching program will improve scores by 100 or so, so we use a prior of $\\mu \\sim N(0, 100)$ and $\\tau \\sim t^+_4(0, 100)$.\n",
        "\n",
        "Note: The model above is the same as one used in a *random-effect meta-analysis*. See [this paper](https://onlinelibrary.wiley.com/doi/abs/10.1002/jrsm.12) for an introduction.\n",
        "\n",
        "## Non-Centered Parameterization\n",
        "\n",
        "The hierarchical model is known to create issues in MCMC sampling, such that the posterior draws tend to be highly correlated even with more advanced techniques like HMC. One way to alleviate that is to reparameterize the model using what is called the **non-centered parameterization**. The basic idea is that, instead of treating the $\\theta$s as parameters, one uses the **standardized deviation** from the mean to be parameters. You can think about it as converting the $\\theta$s into $z$ scores, and then sample the $z$ scores instead of the original $\\theta$s.\n",
        "\n",
        "Model:\n",
        "$$\n",
        "  \\begin{aligned}\n",
        "    d_j & \\sim N(\\theta_j, s_j) \\\\\n",
        "    \\theta_j & = \\mu + \\tau \\eta_j \\\\\n",
        "    \\eta_j & \\sim N(0, 1)\n",
        "  \\end{aligned}\n",
        "$$"
      ]
    },
    {
      "cell_type": "code",
      "execution_count": 23,
      "id": "52f577bb",
      "metadata": {
        "name": "fit",
        "tags": [
          "remove_output"
        ],
        "colab": {
          "base_uri": "https://localhost:8080/"
        },
        "id": "52f577bb",
        "outputId": "9964cc68-acfe-4cad-9cd9-152dd15ba3db"
      },
      "outputs": [
        {
          "output_type": "stream",
          "name": "stdout",
          "text": [
            "\n",
            "SAMPLING FOR MODEL 'anon_model' NOW (CHAIN 1).\n",
            "Chain 1: \n",
            "Chain 1: Gradient evaluation took 1.1e-05 seconds\n",
            "Chain 1: 1000 transitions using 10 leapfrog steps per transition would take 0.11 seconds.\n",
            "Chain 1: Adjust your expectations accordingly!\n",
            "Chain 1: \n",
            "Chain 1: \n",
            "Chain 1: Iteration:    1 / 2000 [  0%]  (Warmup)\n",
            "Chain 1: Iteration:  200 / 2000 [ 10%]  (Warmup)\n",
            "Chain 1: Iteration:  400 / 2000 [ 20%]  (Warmup)\n",
            "Chain 1: Iteration:  600 / 2000 [ 30%]  (Warmup)\n",
            "Chain 1: Iteration:  800 / 2000 [ 40%]  (Warmup)\n",
            "Chain 1: Iteration: 1000 / 2000 [ 50%]  (Warmup)\n",
            "Chain 1: Iteration: 1001 / 2000 [ 50%]  (Sampling)\n",
            "Chain 1: Iteration: 1200 / 2000 [ 60%]  (Sampling)\n",
            "Chain 1: Iteration: 1400 / 2000 [ 70%]  (Sampling)\n",
            "Chain 1: Iteration: 1600 / 2000 [ 80%]  (Sampling)\n",
            "Chain 1: Iteration: 1800 / 2000 [ 90%]  (Sampling)\n",
            "Chain 1: Iteration: 2000 / 2000 [100%]  (Sampling)\n",
            "Chain 1: \n",
            "Chain 1:  Elapsed Time: 0.205 seconds (Warm-up)\n",
            "Chain 1:                0.153 seconds (Sampling)\n",
            "Chain 1:                0.358 seconds (Total)\n",
            "Chain 1: \n",
            "\n",
            "SAMPLING FOR MODEL 'anon_model' NOW (CHAIN 2).\n",
            "Chain 2: \n",
            "Chain 2: Gradient evaluation took 1.3e-05 seconds\n",
            "Chain 2: 1000 transitions using 10 leapfrog steps per transition would take 0.13 seconds.\n",
            "Chain 2: Adjust your expectations accordingly!\n",
            "Chain 2: \n",
            "Chain 2: \n",
            "Chain 2: Iteration:    1 / 2000 [  0%]  (Warmup)\n",
            "Chain 2: Iteration:  200 / 2000 [ 10%]  (Warmup)\n",
            "Chain 2: Iteration:  400 / 2000 [ 20%]  (Warmup)\n",
            "Chain 2: Iteration:  600 / 2000 [ 30%]  (Warmup)\n",
            "Chain 2: Iteration:  800 / 2000 [ 40%]  (Warmup)\n",
            "Chain 2: Iteration: 1000 / 2000 [ 50%]  (Warmup)\n",
            "Chain 2: Iteration: 1001 / 2000 [ 50%]  (Sampling)\n",
            "Chain 2: Iteration: 1200 / 2000 [ 60%]  (Sampling)\n",
            "Chain 2: Iteration: 1400 / 2000 [ 70%]  (Sampling)\n",
            "Chain 2: Iteration: 1600 / 2000 [ 80%]  (Sampling)\n",
            "Chain 2: Iteration: 1800 / 2000 [ 90%]  (Sampling)\n",
            "Chain 2: Iteration: 2000 / 2000 [100%]  (Sampling)\n",
            "Chain 2: \n",
            "Chain 2:  Elapsed Time: 0.241 seconds (Warm-up)\n",
            "Chain 2:                0.155 seconds (Sampling)\n",
            "Chain 2:                0.396 seconds (Total)\n",
            "Chain 2: \n",
            "\n",
            "SAMPLING FOR MODEL 'anon_model' NOW (CHAIN 3).\n",
            "Chain 3: \n",
            "Chain 3: Gradient evaluation took 1.3e-05 seconds\n",
            "Chain 3: 1000 transitions using 10 leapfrog steps per transition would take 0.13 seconds.\n",
            "Chain 3: Adjust your expectations accordingly!\n",
            "Chain 3: \n",
            "Chain 3: \n",
            "Chain 3: Iteration:    1 / 2000 [  0%]  (Warmup)\n",
            "Chain 3: Iteration:  200 / 2000 [ 10%]  (Warmup)\n",
            "Chain 3: Iteration:  400 / 2000 [ 20%]  (Warmup)\n",
            "Chain 3: Iteration:  600 / 2000 [ 30%]  (Warmup)\n",
            "Chain 3: Iteration:  800 / 2000 [ 40%]  (Warmup)\n",
            "Chain 3: Iteration: 1000 / 2000 [ 50%]  (Warmup)\n",
            "Chain 3: Iteration: 1001 / 2000 [ 50%]  (Sampling)\n",
            "Chain 3: Iteration: 1200 / 2000 [ 60%]  (Sampling)\n",
            "Chain 3: Iteration: 1400 / 2000 [ 70%]  (Sampling)\n",
            "Chain 3: Iteration: 1600 / 2000 [ 80%]  (Sampling)\n",
            "Chain 3: Iteration: 1800 / 2000 [ 90%]  (Sampling)\n",
            "Chain 3: Iteration: 2000 / 2000 [100%]  (Sampling)\n",
            "Chain 3: \n",
            "Chain 3:  Elapsed Time: 0.27 seconds (Warm-up)\n",
            "Chain 3:                0.173 seconds (Sampling)\n",
            "Chain 3:                0.443 seconds (Total)\n",
            "Chain 3: \n",
            "\n",
            "SAMPLING FOR MODEL 'anon_model' NOW (CHAIN 4).\n",
            "Chain 4: \n",
            "Chain 4: Gradient evaluation took 1.2e-05 seconds\n",
            "Chain 4: 1000 transitions using 10 leapfrog steps per transition would take 0.12 seconds.\n",
            "Chain 4: Adjust your expectations accordingly!\n",
            "Chain 4: \n",
            "Chain 4: \n",
            "Chain 4: Iteration:    1 / 2000 [  0%]  (Warmup)\n",
            "Chain 4: Iteration:  200 / 2000 [ 10%]  (Warmup)\n",
            "Chain 4: Iteration:  400 / 2000 [ 20%]  (Warmup)\n",
            "Chain 4: Iteration:  600 / 2000 [ 30%]  (Warmup)\n",
            "Chain 4: Iteration:  800 / 2000 [ 40%]  (Warmup)\n",
            "Chain 4: Iteration: 1000 / 2000 [ 50%]  (Warmup)\n",
            "Chain 4: Iteration: 1001 / 2000 [ 50%]  (Sampling)\n",
            "Chain 4: Iteration: 1200 / 2000 [ 60%]  (Sampling)\n",
            "Chain 4: Iteration: 1400 / 2000 [ 70%]  (Sampling)\n",
            "Chain 4: Iteration: 1600 / 2000 [ 80%]  (Sampling)\n",
            "Chain 4: Iteration: 1800 / 2000 [ 90%]  (Sampling)\n",
            "Chain 4: Iteration: 2000 / 2000 [100%]  (Sampling)\n",
            "Chain 4: \n",
            "Chain 4:  Elapsed Time: 0.285 seconds (Warm-up)\n",
            "Chain 4:                0.164 seconds (Sampling)\n",
            "Chain 4:                0.449 seconds (Total)\n",
            "Chain 4: \n"
          ]
        }
      ],
      "source": [
        "%%R\n",
        "fit <- stan(\n",
        "    file = \"hierarchical_norm.stan\",\n",
        "    data = schools_dat,\n",
        "    seed = 1804,  # for reproducibility\n",
        "    # higher adapt_delta due to divergent transitions\n",
        "    pars = c(\"mu\", \"tau\", \"theta\"),  # skip the etas\n",
        "    control = list(adapt_delta = 0.95)\n",
        ")"
      ]
    },
    {
      "cell_type": "markdown",
      "id": "b71f5663",
      "metadata": {
        "id": "b71f5663"
      },
      "source": [
        "Treatment effect estimates of individual schools ($\\theta$), average treatment effect ($\\mu$), and treatment effect heterogeneity ($\\tau$)."
      ]
    },
    {
      "cell_type": "code",
      "execution_count": 24,
      "id": "b71e623a",
      "metadata": {
        "name": "print-fit",
        "colab": {
          "base_uri": "https://localhost:8080/"
        },
        "id": "b71e623a",
        "outputId": "cd5ea637-b85c-491f-dbcb-4e69838f61b6"
      },
      "outputs": [
        {
          "output_type": "stream",
          "name": "stdout",
          "text": [
            "Inference for Stan model: anon_model.\n",
            "4 chains, each with iter=2000; warmup=1000; thin=1; \n",
            "post-warmup draws per chain=1000, total post-warmup draws=4000.\n",
            "\n",
            "          mean se_mean   sd   2.5%  25%   50%   75% 97.5% n_eff Rhat\n",
            "theta[1] 11.56    0.16 8.54  -2.14 6.10 10.46 15.72 32.27  2787    1\n",
            "theta[2]  7.75    0.10 6.31  -4.53 3.80  7.55 11.83 20.52  4335    1\n",
            "theta[3]  5.71    0.14 8.02 -13.34 1.58  6.28 10.54 20.48  3404    1\n",
            "theta[4]  7.44    0.09 6.51  -5.51 3.50  7.37 11.32 20.69  4858    1\n",
            "theta[5]  4.91    0.10 6.35  -8.90 1.17  5.32  9.08 16.67  4033    1\n",
            "theta[6]  5.99    0.10 6.72  -8.89 2.11  6.43 10.34 18.15  4362    1\n",
            "theta[7] 10.74    0.11 6.65  -0.93 6.39 10.10 14.63 25.97  3396    1\n",
            "theta[8]  8.47    0.12 7.75  -6.94 4.06  8.14 12.56 24.84  4054    1\n",
            "mu        7.70    0.14 5.45  -2.54 4.41  7.65 10.85 18.25  1502    1\n",
            "tau       6.84    0.17 5.84   0.26 2.57  5.49  9.39 21.62  1115    1\n",
            "\n",
            "Samples were drawn using NUTS(diag_e) at Thu Nov  2 12:43:55 2023.\n",
            "For each parameter, n_eff is a crude measure of effective sample size,\n",
            "and Rhat is the potential scale reduction factor on split chains (at \n",
            "convergence, Rhat=1).\n"
          ]
        }
      ],
      "source": [
        "%%R\n",
        "print(fit, pars = c(\"theta\", \"mu\", \"tau\"))"
      ]
    },
    {
      "cell_type": "markdown",
      "id": "fb8319f9",
      "metadata": {
        "id": "fb8319f9"
      },
      "source": [
        "On average, based on the 95% CI, coaching seemed to improve SAT-V by -2.2 to 17.54 points. There was substantial heterogeneity across schools.\n",
        "\n",
        "We can also get the probability that the treatment effect was > 0:"
      ]
    },
    {
      "cell_type": "code",
      "execution_count": 25,
      "id": "0d9bbd36",
      "metadata": {
        "name": "prob-mu-gt-0",
        "colab": {
          "base_uri": "https://localhost:8080/"
        },
        "id": "0d9bbd36",
        "outputId": "8b1479fa-6a03-4643-9138-7639ee4ce2c6"
      },
      "outputs": [
        {
          "output_type": "stream",
          "name": "stdout",
          "text": [
            "[1] 0.94\n"
          ]
        }
      ],
      "source": [
        "%%R\n",
        "# Obtain draws\n",
        "mu_draws <- as.matrix(fit, pars = \"mu\")\n",
        "mean(mu_draws > 0)"
      ]
    },
    {
      "cell_type": "markdown",
      "id": "ba744cdc",
      "metadata": {
        "id": "ba744cdc"
      },
      "source": [
        "Here are the individual-school treatment effects:"
      ]
    },
    {
      "cell_type": "code",
      "execution_count": 26,
      "id": "3efede3f",
      "metadata": {
        "fig.asp": 1,
        "name": "areas-fit",
        "colab": {
          "base_uri": "https://localhost:8080/",
          "height": 497
        },
        "id": "3efede3f",
        "outputId": "8a02a4a4-2eb3-4c47-97c5-45781349ce4d"
      },
      "outputs": [
        {
          "output_type": "display_data",
          "data": {
            "image/png": "[encoded data removed]"
          },
          "metadata": {}
        }
      ],
      "source": [
        "%%R\n",
        "mcmc_areas(fit, regex_pars = \"theta\")"
      ]
    },
    {
      "cell_type": "markdown",
      "id": "4048b171",
      "metadata": {
        "id": "4048b171"
      },
      "source": [
        "## Prediction Interval\n",
        "\n",
        "Posterior distribution of the true effect size of a new study, $\\tilde \\theta$"
      ]
    },
    {
      "cell_type": "code",
      "execution_count": 27,
      "id": "7e041301",
      "metadata": {
        "name": "pred-interval",
        "colab": {
          "base_uri": "https://localhost:8080/"
        },
        "id": "7e041301",
        "outputId": "e06a3d62-66ea-4883-bf00-bbcde675d214"
      },
      "outputs": [
        {
          "output_type": "stream",
          "name": "stdout",
          "text": [
            "# A tibble: 3 × 10\n",
            "  variable     mean median    sd   mad     q5   q95  rhat ess_bulk ess_tail\n",
            "  <chr>       <num>  <num> <num> <num>  <num> <num> <num>    <num>    <num>\n",
            "1 mu           7.70   7.65  5.45  4.79 -0.411  16.4  1.00    4120.    3959.\n",
            "2 tau          6.84   5.49  5.84  4.78  0.567  17.8  1.00    3937.    3882.\n",
            "3 theta_tilde  7.69   7.57 10.3   7.18 -8.07   23.5  1.00    3915.    3834.\n"
          ]
        }
      ],
      "source": [
        "%%R\n",
        "# Prediction Interval (can also be done in Stan)\n",
        "extract(fit, pars = c(\"mu\", \"tau\")) %>%\n",
        "    as_draws_array() %>%\n",
        "    mutate_variables(theta_tilde = rnorm(4000, mean = mu, sd = tau)) %>%\n",
        "    summarise_draws()"
      ]
    },
    {
      "cell_type": "markdown",
      "id": "d513a349",
      "metadata": {
        "id": "d513a349"
      },
      "source": [
        "The posterior interval for $\\tilde \\theta$ indicates a range that the treatment effect for a new study can be.\n",
        "\n",
        "<!-- The following chunk is only used in the website -->"
      ]
    },
    {
      "cell_type": "code",
      "source": [],
      "metadata": {
        "id": "W1lrYBqPDkz5"
      },
      "id": "W1lrYBqPDkz5",
      "execution_count": 27,
      "outputs": []
    }
  ],
  "metadata": {
    "jupytext": {
      "cell_metadata_filter": "language,fig.asp,fig.width,eval,name,results,tags,output.var,message,out.width,layout,echo,code,-all",
      "main_language": "R",
      "notebook_metadata_filter": "-all"
    },
    "colab": {
      "provenance": []
    },
    "language_info": {
      "name": "python"
    },
    "kernelspec": {
      "name": "python3",
      "display_name": "Python 3"
    }
  },
  "nbformat": 4,
  "nbformat_minor": 5
}